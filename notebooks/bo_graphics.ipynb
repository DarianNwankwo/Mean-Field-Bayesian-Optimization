{
 "cells": [
  {
   "cell_type": "code",
   "execution_count": 11,
   "id": "51e03dbc-856b-43a3-b7ef-888e0b282504",
   "metadata": {},
   "outputs": [],
   "source": [
    "using NLopt\n",
    "using ForwardDiff"
   ]
  },
  {
   "cell_type": "code",
   "execution_count": 12,
   "id": "aff3a5fc-c54e-41f6-9706-386aad903ccb",
   "metadata": {},
   "outputs": [
    {
     "ename": "LoadError",
     "evalue": "MethodError: no method matching rosenbrock_hessian(::Vector{Float64}, ::Vector{Float64})\nThe function `rosenbrock_hessian` exists, but no method is defined for this combination of argument types.\n\n\u001b[0mClosest candidates are:\n\u001b[0m  rosenbrock_hessian(::Vector, ::Vector, \u001b[91m::Matrix\u001b[39m)\n\u001b[0m\u001b[90m   @\u001b[39m \u001b[36mMain\u001b[39m \u001b[90m\u001b[4mIn[12]:2\u001b[24m\u001b[39m\n\nStacktrace:\n  [1] \u001b[0m\u001b[1mnlopt_callback_wrapper\u001b[22m\u001b[0m\u001b[1m(\u001b[22m\u001b[90mn\u001b[39m::\u001b[0mUInt32, \u001b[90mp_x\u001b[39m::\u001b[0mPtr\u001b[90m{Float64}\u001b[39m, \u001b[90mp_grad\u001b[39m::\u001b[0mPtr\u001b[90m{Float64}\u001b[39m, \u001b[90md_\u001b[39m::\u001b[0mPtr\u001b[90m{Nothing}\u001b[39m\u001b[0m\u001b[1m)\u001b[22m\n\u001b[90m    @\u001b[39m \u001b[35mNLopt\u001b[39m \u001b[90m~/.julia/packages/NLopt/6hGun/src/\u001b[39m\u001b[90m\u001b[4mNLopt.jl:466\u001b[24m\u001b[39m\n  [2] \u001b[0m\u001b[1mnlopt_optimize\u001b[22m\n\u001b[90m    @\u001b[39m \u001b[90m~/.julia/packages/NLopt/6hGun/src/\u001b[39m\u001b[90m\u001b[4mlibnlopt.jl:182\u001b[24m\u001b[39m\u001b[90m [inlined]\u001b[39m\n  [3] \u001b[0m\u001b[1moptimize!\u001b[22m\u001b[0m\u001b[1m(\u001b[22m\u001b[90mo\u001b[39m::\u001b[0mOpt, \u001b[90mx\u001b[39m::\u001b[0mVector\u001b[90m{Float64}\u001b[39m\u001b[0m\u001b[1m)\u001b[22m\n\u001b[90m    @\u001b[39m \u001b[35mNLopt\u001b[39m \u001b[90m~/.julia/packages/NLopt/6hGun/src/\u001b[39m\u001b[90m\u001b[4mNLopt.jl:790\u001b[24m\u001b[39m\n  [4] \u001b[0m\u001b[1moptimize\u001b[22m\u001b[0m\u001b[1m(\u001b[22m\u001b[90mo\u001b[39m::\u001b[0mOpt, \u001b[90mx\u001b[39m::\u001b[0mVector\u001b[90m{Float64}\u001b[39m\u001b[0m\u001b[1m)\u001b[22m\n\u001b[90m    @\u001b[39m \u001b[35mNLopt\u001b[39m \u001b[90m~/.julia/packages/NLopt/6hGun/src/\u001b[39m\u001b[90m\u001b[4mNLopt.jl:804\u001b[24m\u001b[39m\n  [5] top-level scope\n\u001b[90m    @\u001b[39m \u001b[90m\u001b[4mIn[12]:42\u001b[24m\u001b[39m\n  [6] \u001b[0m\u001b[1meval\u001b[22m\n\u001b[90m    @\u001b[39m \u001b[90m./\u001b[39m\u001b[90m\u001b[4mboot.jl:430\u001b[24m\u001b[39m\u001b[90m [inlined]\u001b[39m\n  [7] \u001b[0m\u001b[1minclude_string\u001b[22m\u001b[0m\u001b[1m(\u001b[22m\u001b[90mmapexpr\u001b[39m::\u001b[0mtypeof(REPL.softscope), \u001b[90mmod\u001b[39m::\u001b[0mModule, \u001b[90mcode\u001b[39m::\u001b[0mString, \u001b[90mfilename\u001b[39m::\u001b[0mString\u001b[0m\u001b[1m)\u001b[22m\n\u001b[90m    @\u001b[39m \u001b[90mBase\u001b[39m \u001b[90m./\u001b[39m\u001b[90m\u001b[4mloading.jl:2734\u001b[24m\u001b[39m\n  [8] \u001b[0m\u001b[1msoftscope_include_string\u001b[22m\u001b[0m\u001b[1m(\u001b[22m\u001b[90mm\u001b[39m::\u001b[0mModule, \u001b[90mcode\u001b[39m::\u001b[0mString, \u001b[90mfilename\u001b[39m::\u001b[0mString\u001b[0m\u001b[1m)\u001b[22m\n\u001b[90m    @\u001b[39m \u001b[32mSoftGlobalScope\u001b[39m \u001b[90m~/.julia/packages/SoftGlobalScope/u4UzH/src/\u001b[39m\u001b[90m\u001b[4mSoftGlobalScope.jl:65\u001b[24m\u001b[39m\n  [9] \u001b[0m\u001b[1mexecute_request\u001b[22m\u001b[0m\u001b[1m(\u001b[22m\u001b[90msocket\u001b[39m::\u001b[0mZMQ.Socket, \u001b[90mmsg\u001b[39m::\u001b[0mIJulia.Msg\u001b[0m\u001b[1m)\u001b[22m\n\u001b[90m    @\u001b[39m \u001b[33mIJulia\u001b[39m \u001b[90m~/.julia/packages/IJulia/dR0lE/src/\u001b[39m\u001b[90m\u001b[4mexecute_request.jl:74\u001b[24m\u001b[39m\n [10] \u001b[0m\u001b[1m#invokelatest#2\u001b[22m\n\u001b[90m    @\u001b[39m \u001b[90m./\u001b[39m\u001b[90m\u001b[4messentials.jl:1055\u001b[24m\u001b[39m\u001b[90m [inlined]\u001b[39m\n [11] \u001b[0m\u001b[1minvokelatest\u001b[22m\n\u001b[90m    @\u001b[39m \u001b[90m./\u001b[39m\u001b[90m\u001b[4messentials.jl:1052\u001b[24m\u001b[39m\u001b[90m [inlined]\u001b[39m\n [12] \u001b[0m\u001b[1meventloop\u001b[22m\u001b[0m\u001b[1m(\u001b[22m\u001b[90msocket\u001b[39m::\u001b[0mZMQ.Socket\u001b[0m\u001b[1m)\u001b[22m\n\u001b[90m    @\u001b[39m \u001b[33mIJulia\u001b[39m \u001b[90m~/.julia/packages/IJulia/dR0lE/src/\u001b[39m\u001b[90m\u001b[4meventloop.jl:8\u001b[24m\u001b[39m\n [13] \u001b[0m\u001b[1m(::IJulia.var\"#15#18\")\u001b[22m\u001b[0m\u001b[1m(\u001b[22m\u001b[0m\u001b[1m)\u001b[22m\n\u001b[90m    @\u001b[39m \u001b[33mIJulia\u001b[39m \u001b[90m~/.julia/packages/IJulia/dR0lE/src/\u001b[39m\u001b[90m\u001b[4meventloop.jl:38\u001b[24m\u001b[39m",
     "output_type": "error",
     "traceback": [
      "MethodError: no method matching rosenbrock_hessian(::Vector{Float64}, ::Vector{Float64})\nThe function `rosenbrock_hessian` exists, but no method is defined for this combination of argument types.\n\n\u001b[0mClosest candidates are:\n\u001b[0m  rosenbrock_hessian(::Vector, ::Vector, \u001b[91m::Matrix\u001b[39m)\n\u001b[0m\u001b[90m   @\u001b[39m \u001b[36mMain\u001b[39m \u001b[90m\u001b[4mIn[12]:2\u001b[24m\u001b[39m\n\nStacktrace:\n  [1] \u001b[0m\u001b[1mnlopt_callback_wrapper\u001b[22m\u001b[0m\u001b[1m(\u001b[22m\u001b[90mn\u001b[39m::\u001b[0mUInt32, \u001b[90mp_x\u001b[39m::\u001b[0mPtr\u001b[90m{Float64}\u001b[39m, \u001b[90mp_grad\u001b[39m::\u001b[0mPtr\u001b[90m{Float64}\u001b[39m, \u001b[90md_\u001b[39m::\u001b[0mPtr\u001b[90m{Nothing}\u001b[39m\u001b[0m\u001b[1m)\u001b[22m\n\u001b[90m    @\u001b[39m \u001b[35mNLopt\u001b[39m \u001b[90m~/.julia/packages/NLopt/6hGun/src/\u001b[39m\u001b[90m\u001b[4mNLopt.jl:466\u001b[24m\u001b[39m\n  [2] \u001b[0m\u001b[1mnlopt_optimize\u001b[22m\n\u001b[90m    @\u001b[39m \u001b[90m~/.julia/packages/NLopt/6hGun/src/\u001b[39m\u001b[90m\u001b[4mlibnlopt.jl:182\u001b[24m\u001b[39m\u001b[90m [inlined]\u001b[39m\n  [3] \u001b[0m\u001b[1moptimize!\u001b[22m\u001b[0m\u001b[1m(\u001b[22m\u001b[90mo\u001b[39m::\u001b[0mOpt, \u001b[90mx\u001b[39m::\u001b[0mVector\u001b[90m{Float64}\u001b[39m\u001b[0m\u001b[1m)\u001b[22m\n\u001b[90m    @\u001b[39m \u001b[35mNLopt\u001b[39m \u001b[90m~/.julia/packages/NLopt/6hGun/src/\u001b[39m\u001b[90m\u001b[4mNLopt.jl:790\u001b[24m\u001b[39m\n  [4] \u001b[0m\u001b[1moptimize\u001b[22m\u001b[0m\u001b[1m(\u001b[22m\u001b[90mo\u001b[39m::\u001b[0mOpt, \u001b[90mx\u001b[39m::\u001b[0mVector\u001b[90m{Float64}\u001b[39m\u001b[0m\u001b[1m)\u001b[22m\n\u001b[90m    @\u001b[39m \u001b[35mNLopt\u001b[39m \u001b[90m~/.julia/packages/NLopt/6hGun/src/\u001b[39m\u001b[90m\u001b[4mNLopt.jl:804\u001b[24m\u001b[39m\n  [5] top-level scope\n\u001b[90m    @\u001b[39m \u001b[90m\u001b[4mIn[12]:42\u001b[24m\u001b[39m\n  [6] \u001b[0m\u001b[1meval\u001b[22m\n\u001b[90m    @\u001b[39m \u001b[90m./\u001b[39m\u001b[90m\u001b[4mboot.jl:430\u001b[24m\u001b[39m\u001b[90m [inlined]\u001b[39m\n  [7] \u001b[0m\u001b[1minclude_string\u001b[22m\u001b[0m\u001b[1m(\u001b[22m\u001b[90mmapexpr\u001b[39m::\u001b[0mtypeof(REPL.softscope), \u001b[90mmod\u001b[39m::\u001b[0mModule, \u001b[90mcode\u001b[39m::\u001b[0mString, \u001b[90mfilename\u001b[39m::\u001b[0mString\u001b[0m\u001b[1m)\u001b[22m\n\u001b[90m    @\u001b[39m \u001b[90mBase\u001b[39m \u001b[90m./\u001b[39m\u001b[90m\u001b[4mloading.jl:2734\u001b[24m\u001b[39m\n  [8] \u001b[0m\u001b[1msoftscope_include_string\u001b[22m\u001b[0m\u001b[1m(\u001b[22m\u001b[90mm\u001b[39m::\u001b[0mModule, \u001b[90mcode\u001b[39m::\u001b[0mString, \u001b[90mfilename\u001b[39m::\u001b[0mString\u001b[0m\u001b[1m)\u001b[22m\n\u001b[90m    @\u001b[39m \u001b[32mSoftGlobalScope\u001b[39m \u001b[90m~/.julia/packages/SoftGlobalScope/u4UzH/src/\u001b[39m\u001b[90m\u001b[4mSoftGlobalScope.jl:65\u001b[24m\u001b[39m\n  [9] \u001b[0m\u001b[1mexecute_request\u001b[22m\u001b[0m\u001b[1m(\u001b[22m\u001b[90msocket\u001b[39m::\u001b[0mZMQ.Socket, \u001b[90mmsg\u001b[39m::\u001b[0mIJulia.Msg\u001b[0m\u001b[1m)\u001b[22m\n\u001b[90m    @\u001b[39m \u001b[33mIJulia\u001b[39m \u001b[90m~/.julia/packages/IJulia/dR0lE/src/\u001b[39m\u001b[90m\u001b[4mexecute_request.jl:74\u001b[24m\u001b[39m\n [10] \u001b[0m\u001b[1m#invokelatest#2\u001b[22m\n\u001b[90m    @\u001b[39m \u001b[90m./\u001b[39m\u001b[90m\u001b[4messentials.jl:1055\u001b[24m\u001b[39m\u001b[90m [inlined]\u001b[39m\n [11] \u001b[0m\u001b[1minvokelatest\u001b[22m\n\u001b[90m    @\u001b[39m \u001b[90m./\u001b[39m\u001b[90m\u001b[4messentials.jl:1052\u001b[24m\u001b[39m\u001b[90m [inlined]\u001b[39m\n [12] \u001b[0m\u001b[1meventloop\u001b[22m\u001b[0m\u001b[1m(\u001b[22m\u001b[90msocket\u001b[39m::\u001b[0mZMQ.Socket\u001b[0m\u001b[1m)\u001b[22m\n\u001b[90m    @\u001b[39m \u001b[33mIJulia\u001b[39m \u001b[90m~/.julia/packages/IJulia/dR0lE/src/\u001b[39m\u001b[90m\u001b[4meventloop.jl:8\u001b[24m\u001b[39m\n [13] \u001b[0m\u001b[1m(::IJulia.var\"#15#18\")\u001b[22m\u001b[0m\u001b[1m(\u001b[22m\u001b[0m\u001b[1m)\u001b[22m\n\u001b[90m    @\u001b[39m \u001b[33mIJulia\u001b[39m \u001b[90m~/.julia/packages/IJulia/dR0lE/src/\u001b[39m\u001b[90m\u001b[4meventloop.jl:38\u001b[24m\u001b[39m",
      "",
      "Stacktrace:",
      " [1] optimize!(o::Opt, x::Vector{Float64})",
      "   @ NLopt ~/.julia/packages/NLopt/6hGun/src/NLopt.jl:797",
      " [2] optimize(o::Opt, x::Vector{Float64})",
      "   @ NLopt ~/.julia/packages/NLopt/6hGun/src/NLopt.jl:804",
      " [3] top-level scope",
      "   @ In[12]:42"
     ]
    }
   ],
   "source": [
    "# Define the Rosenbrock function with gradient and Hessian.\n",
    "function rosenbrock_hessian(x::Vector, grad::Vector, hess::Matrix)\n",
    "    # Compute the function value.\n",
    "    f_val = 100.0 * (x[2] - x[1]^2)^2 + (1.0 - x[1])^2\n",
    "\n",
    "    # Compute gradient if requested.\n",
    "    if length(grad) > 0\n",
    "        # Verify these partial derivatives meticulously.\n",
    "        grad[1] = -400.0 * x[1] * (x[2] - x[1]^2) - 2.0 * (1.0 - x[1])\n",
    "        grad[2] = 200.0 * (x[2] - x[1]^2)\n",
    "    end\n",
    "\n",
    "    # Compute Hessian if requested.\n",
    "    if size(hess, 1) > 0\n",
    "        # The Hessian for the Rosenbrock function:\n",
    "        hess[1,1] = 1200.0 * x[1]^2 - 400.0 * x[2] + 2.0\n",
    "        hess[1,2] = -400.0 * x[1]\n",
    "        hess[2,1] = -400.0 * x[1]\n",
    "        hess[2,2] = 200.0\n",
    "    end\n",
    "\n",
    "    return f_val\n",
    "end\n",
    "\n",
    "# Choose a Hessian-capable algorithm.\n",
    "opt = Opt(:LD_TNEWTON, 2)  # '2' defines a 2-dimensional problem\n",
    "\n",
    "# Optionally set variable bounds.\n",
    "lower_bounds!(opt, [-5.0, -5.0])\n",
    "upper_bounds!(opt, [5.0, 5.0])\n",
    "\n",
    "# Set a relative tolerance.\n",
    "xtol_rel!(opt, 1e-8)\n",
    "\n",
    "# Register the objective with Hessian.\n",
    "min_objective!(opt, rosenbrock_hessian)\n",
    "\n",
    "# An initial guess. The known global minimum for the Rosenbrock function is at [1.0, 1.0].\n",
    "initial_x = [0.0, 0.0]\n",
    "\n",
    "# Execute the optimizer.\n",
    "(minimum_value, minimizer, exitflag) = optimize(opt, initial_x)\n",
    "\n",
    "# Display the results.\n",
    "println(\"Minimum value found: $minimum_value\")\n",
    "println(\"Minimizer: $minimizer\")\n",
    "println(\"Exit flag: $exitflag\")"
   ]
  },
  {
   "cell_type": "code",
   "execution_count": 9,
   "id": "d4071412-6616-4580-9739-533ebfc50c3e",
   "metadata": {},
   "outputs": [
    {
     "data": {
      "text/plain": [
       "221"
      ]
     },
     "execution_count": 9,
     "metadata": {},
     "output_type": "execute_result"
    }
   ],
   "source": []
  },
  {
   "cell_type": "code",
   "execution_count": null,
   "id": "a0aed84e-11fa-45e5-8f10-1f3eea953c00",
   "metadata": {},
   "outputs": [],
   "source": []
  }
 ],
 "metadata": {
  "kernelspec": {
   "display_name": "Julia (4 threads) 1.11.4",
   "language": "julia",
   "name": "julia-_4-threads_-1.11"
  },
  "language_info": {
   "file_extension": ".jl",
   "mimetype": "application/julia",
   "name": "julia",
   "version": "1.11.4"
  }
 },
 "nbformat": 4,
 "nbformat_minor": 5
}
