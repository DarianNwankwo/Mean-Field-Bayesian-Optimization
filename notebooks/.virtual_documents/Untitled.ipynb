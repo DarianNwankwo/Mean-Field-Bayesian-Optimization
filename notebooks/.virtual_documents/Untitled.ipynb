import pandas as pd
import numpy as np

import matplotlib.pyplot as plt
import seaborn as sns


DATA_DIR = "../experiments/myopic/levy10d"
acquisitions = ["ei", "lcb", "poi", "random"]

time_dfs = {acq: pd.read_csv(f"{DATA_DIR}/{acq}_times.csv") for acq in acquisitions}
[time_dfs[acq].drop(0, inplace=True) for acq in acquisitions]
for acq in acquisitions:
    time_dfs[acq] = time_dfs[acq].shift(periods=1, axis=1)
    time_dfs[acq]["trial"] = time_dfs[acq].index
    time_dfs[acq].set_index("trial", inplace=True)
    # Drop first row again to ignore compilation timing
    time_dfs[acq].drop(1, inplace=True)
    time_dfs[acq].drop(columns=["100"], inplace=True)


time_dfs["ei"].describe()


sum_across_rows = time_dfs["ei"].sum(axis=0) / 59
sum_across_columns = time_dfs["ei"].sum(axis=1) / 100


# Each trial is taking the same amount of time, effectively
sum_across_columns.plot()


sum_across_columns.mean()


# Within trials, each iteration is increasingly costly
sum_across_rows.plot()


sum_across_rows.mean()


# Calculate the sum across rows and columns
df = time_dfs["ei"]
sum_across_rows = df.sum(axis=0) / 59 # Sum across columns for each row
sum_across_columns = df.sum(axis=1) / 100  # Sum across rows for each column

# Create subplots to show both distributions
fig, axes = plt.subplots(1, 2, figsize=(12, 6))

# Plot the distribution of sums across rows
sns.histplot(sum_across_rows, kde=True, ax=axes[0], color='blue')
axes[0].set_title('Distribution of Time Spent Per Iteration Across All Trials')
axes[0].set_xlabel('Sum of Time Across Rows')
axes[0].set_ylabel('Frequency')

# Plot the distribution of sums across columns
sns.histplot(sum_across_columns, kde=True, ax=axes[1], color='green')
axes[1].set_title('Distribution of Time Spent Doing Full BO Loop')
axes[1].set_xlabel('Sum of Time Across Columns')
axes[1].set_ylabel('Frequency')

# Show the plots
plt.tight_layout()
plt.show()


sum_across_rows = time_dfs["ei"].mean(axis=0)
sum_across_columns = time_dfs["ei"].mean(axis=1)


sum_across_columns.plot()


sum_across_rows.plot()


sum_across_columns.mean()


sum_across_rows.mean()



