{
 "cells": [
  {
   "cell_type": "markdown",
   "id": "cfc797d5-02f5-4860-a48a-a165c2c15970",
   "metadata": {},
   "source": [
    "# Getting Up To Speed: Playing with Tools"
   ]
  },
  {
   "cell_type": "markdown",
   "id": "5a724d03-b48f-48d2-ac28-b63bd188dd44",
   "metadata": {},
   "source": [
    "## Including the Sources\n",
    "The following statement includes all of the computations defined throughout our repository. The simplest unit of computation is getting familiar with our stationary kernels, i.e. Radial Basis Functions."
   ]
  },
  {
   "cell_type": "code",
   "execution_count": 6,
   "id": "6d80112d-6169-46f8-9687-09edc2dfeba9",
   "metadata": {},
   "outputs": [
    {
     "ename": "LoadError",
     "evalue": "LoadError: invalid redefinition of constant Main.PolynomialBasisFunction\nin expression starting at /Users/jamosa/Documents/academia/cornell-university/research/projects/bo_with_mean_field/polynomial_basis_functions.jl:1\nin expression starting at /Users/jamosa/Documents/academia/cornell-university/research/projects/bo_with_mean_field/bayesian_optimization.jl:26",
     "output_type": "error",
     "traceback": [
      "LoadError: invalid redefinition of constant Main.PolynomialBasisFunction\nin expression starting at /Users/jamosa/Documents/academia/cornell-university/research/projects/bo_with_mean_field/polynomial_basis_functions.jl:1\nin expression starting at /Users/jamosa/Documents/academia/cornell-university/research/projects/bo_with_mean_field/bayesian_optimization.jl:26",
      "",
      "Stacktrace:",
      " [1] top-level scope",
      "   @ ~/Documents/academia/cornell-university/research/projects/bo_with_mean_field/polynomial_basis_functions.jl:1",
      " [2] include(fname::String)",
      "   @ Main ./sysimg.jl:38",
      " [3] top-level scope",
      "   @ ~/Documents/academia/cornell-university/research/projects/bo_with_mean_field/bayesian_optimization.jl:26",
      " [4] include(fname::String)",
      "   @ Main ./sysimg.jl:38",
      " [5] top-level scope",
      "   @ In[6]:1"
     ]
    }
   ],
   "source": [
    "include(\"../bayesian_optimization.jl\")"
   ]
  },
  {
   "cell_type": "code",
   "execution_count": null,
   "id": "07f6b8db-ce8f-4085-af53-661628587104",
   "metadata": {},
   "outputs": [],
   "source": []
  }
 ],
 "metadata": {
  "kernelspec": {
   "display_name": "Julia 1.11.4",
   "language": "julia",
   "name": "julia-1.11"
  },
  "language_info": {
   "file_extension": ".jl",
   "mimetype": "application/julia",
   "name": "julia",
   "version": "1.11.4"
  }
 },
 "nbformat": 4,
 "nbformat_minor": 5
}
